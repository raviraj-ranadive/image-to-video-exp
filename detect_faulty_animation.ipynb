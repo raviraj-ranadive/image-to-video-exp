{
 "cells": [
  {
   "cell_type": "markdown",
   "metadata": {},
   "source": [
    "## Description\n",
    "We are experimenting with Image to Video generation and to benchmark the performance, need to flag the abnormalities in the animation. Below lie two approaches to do so. </br>  1) Iteratively calculating IOUs of masks of each frames.  </br> 2) Track the translation of object on the image canvas using the bbox coords.\n",
    "\n",
    "\n"
   ]
  },
  {
   "cell_type": "markdown",
   "metadata": {},
   "source": [
    "- No installations and dependencies as such bcoz its just manipulation of coords and mask images."
   ]
  },
  {
   "cell_type": "markdown",
   "metadata": {},
   "source": [
    "#### Imports"
   ]
  },
  {
   "cell_type": "code",
   "execution_count": 1,
   "metadata": {},
   "outputs": [],
   "source": [
    "import os\n",
    "import cv2\n",
    "import numpy as np\n",
    "import pandas as pd\n",
    "import random\n",
    "import shutil\n"
   ]
  },
  {
   "cell_type": "markdown",
   "metadata": {},
   "source": [
    "#### Select required folders"
   ]
  },
  {
   "cell_type": "code",
   "execution_count": 2,
   "metadata": {},
   "outputs": [
    {
     "name": "stdout",
     "output_type": "stream",
     "text": [
      "Matching folders:\n",
      "['./Data/img_to_vid_samples/2/06f37289-2aeb-40c2-9b03-a8fd16f79b46/I2V/harmonized_image_1', './Data/img_to_vid_samples/3/3d3723d3-edc7-438e-ab2a-198a345ffb9f/I2V/harmonized_image_3', './Data/img_to_vid_samples/3/0e1b4f54-0387-413e-99d7-305f6cb9ed4b/I2V/harmonized_image_3']\n"
     ]
    }
   ],
   "source": [
    "def find_matching_folders(root_dir):\n",
    "    matching_folders = []\n",
    "    for dirpath, dirnames, filenames in os.walk(root_dir):\n",
    "        if \"harmonized_image\" in dirpath and \"I2V\" in dirpath:\n",
    "            matching_folders.append(os.path.join(dirpath, ))\n",
    "            dirnames.clear()\n",
    "    \n",
    "    return matching_folders\n",
    "\n",
    "base_folders = find_matching_folders(\"./Data/\")\n",
    "\n",
    "mask_folders = [os.path.join(i, \"2/mask/\") for i in base_folders]\n",
    "\n",
    "print(\"Matching folders:\")\n",
    "print(random.choices(base_folders, k = 3))\n",
    "\n"
   ]
  },
  {
   "cell_type": "markdown",
   "metadata": {},
   "source": [
    "## 1.1  Calculate_iou iteratively over each mask\n"
   ]
  },
  {
   "cell_type": "code",
   "execution_count": 104,
   "metadata": {},
   "outputs": [],
   "source": [
    "ACCEPTED_IOU_THRESH = 0.92\n",
    "\n",
    "def read_masks(file_path):\n",
    "    image = cv2.imread(file_path, cv2.IMREAD_GRAYSCALE)\n",
    "    if image is not None:\n",
    "        _, thresholded_image = cv2.threshold(image, 127, 255, cv2.THRESH_BINARY)\n",
    "    else:\n",
    "        image = None\n",
    "        print(f\"Failed to read {file_path}\")\n",
    "    return image\n",
    "\n",
    "def calculate_iou(mask1, mask2):\n",
    "    mask1 = (mask1 > 0).astype(np.uint8)\n",
    "    mask2 = (mask2 > 0).astype(np.uint8)\n",
    "    \n",
    "    # Calculate intersection and union\n",
    "    intersection = np.logical_and(mask1, mask2)\n",
    "    union = np.logical_or(mask1, mask2)\n",
    "    \n",
    "    # Calculate IoU\n",
    "    iou = np.sum(intersection) / np.sum(union)\n",
    "    return iou\n"
   ]
  },
  {
   "cell_type": "code",
   "execution_count": 105,
   "metadata": {},
   "outputs": [
    {
     "name": "stdout",
     "output_type": "stream",
     "text": [
      "{'relative_path': './Data/a14487e1-7656-4edb-ac6c-e457aea64b1b/I2V/harmonized_image_3/2/mask/', 'valid_animation': 'True', 'ref_file': '302.png', 'current_file': '303.png', 'iou': '0.9966237942122187'}\n",
      "{'relative_path': './Data/a14487e1-7656-4edb-ac6c-e457aea64b1b/I2V/harmonized_image_2/2/mask/', 'valid_animation': 'True', 'ref_file': '302.png', 'current_file': '303.png', 'iou': '0.9965859209884571'}\n",
      "{'relative_path': './Data/a14487e1-7656-4edb-ac6c-e457aea64b1b/I2V/harmonized_image_4/2/mask/', 'valid_animation': 'True', 'ref_file': '302.png', 'current_file': '303.png', 'iou': '0.9985260399606944'}\n",
      "{'relative_path': './Data/a14487e1-7656-4edb-ac6c-e457aea64b1b/I2V/harmonized_image_1/2/mask/', 'valid_animation': 'True', 'ref_file': '302.png', 'current_file': '303.png', 'iou': '0.9964584674822924'}\n",
      "{'relative_path': './Data/0c52cc3c-c2fb-4e87-ae20-4ecfe327eaa5/I2V/harmonized_image_3/2/mask/', 'valid_animation': 'False', 'ref_file': '138.png', 'current_file': '139.png', 'iou': '0.9143661971830986'}\n",
      "{'relative_path': './Data/0c52cc3c-c2fb-4e87-ae20-4ecfe327eaa5/I2V/harmonized_image_2/2/mask/', 'valid_animation': 'False', 'ref_file': '50.png', 'current_file': '51.png', 'iou': '0.9072868217054264'}\n",
      "{'relative_path': './Data/0c52cc3c-c2fb-4e87-ae20-4ecfe327eaa5/I2V/harmonized_image_4/2/mask/', 'valid_animation': 'False', 'ref_file': '26.png', 'current_file': '27.png', 'iou': '0.9027585472361274'}\n",
      "{'relative_path': './Data/0c52cc3c-c2fb-4e87-ae20-4ecfe327eaa5/I2V/harmonized_image_1/2/mask/', 'valid_animation': 'False', 'ref_file': '0.png', 'current_file': '1.png', 'iou': '0.8670850430444927'}\n"
     ]
    }
   ],
   "source": [
    "mask_analysis_df = pd.DataFrame({})\n",
    "\n",
    "for relative_path in mask_folders:\n",
    "    file_names = os.listdir(relative_path)\n",
    "    \n",
    "    ref_mask_path_0  = os.path.join(relative_path, \"0.png\")\n",
    "\n",
    "    reference_mask = read_masks(ref_mask_path_0)\n",
    "\n",
    "    valid_animation = \"True\"\n",
    "\n",
    "    for file_idx in range(1, len(file_names[1:])):\n",
    "        file = str(file_idx) + \".png\"\n",
    "\n",
    "        file_path = os.path.join(relative_path, file)\n",
    "        \n",
    "        current_mask = read_masks(file_path)\n",
    "\n",
    "        iou_val = calculate_iou(reference_mask, current_mask)\n",
    "\n",
    "        if iou_val > ACCEPTED_IOU_THRESH:\n",
    "            reference_mask = current_mask.copy()\n",
    "        else:\n",
    "            valid_animation = \"False\"\n",
    "            break\n",
    "\n",
    "\n",
    "\n",
    "\n",
    "    result_dict = {\n",
    "        \"relative_path\": relative_path,\n",
    "        \"valid_animation\": valid_animation,\n",
    "        \"ref_file\" : str(file_idx - 1) + \".png\",\n",
    "        \"current_file\" : file,\n",
    "        \"iou\" : str(iou_val)\n",
    "    }\n",
    "\n",
    "    print(result_dict)\n",
    "\n",
    "    row = pd.DataFrame(result_dict, index = [0])\n",
    "    mask_analysis_df = pd.concat([mask_analysis_df, row], ignore_index=True)\n",
    "    "
   ]
  },
  {
   "cell_type": "code",
   "execution_count": null,
   "metadata": {},
   "outputs": [],
   "source": []
  },
  {
   "cell_type": "markdown",
   "metadata": {},
   "source": [
    "## 1.2 Calculate displacement of mask bboxes"
   ]
  },
  {
   "cell_type": "code",
   "execution_count": 3,
   "metadata": {},
   "outputs": [
    {
     "name": "stdout",
     "output_type": "stream",
     "text": [
      "['./Data/img_to_vid_samples/4/a0a89946-df77-4caf-8f7b-cb5c40e898c1/I2V/harmonized_image_3', './Data/img_to_vid_samples/3/2d16c514-d1e4-4b5d-938d-b5bac7e5569e/I2V/harmonized_image_3']\n",
      "315\n"
     ]
    }
   ],
   "source": [
    "print(random.choices(base_folders, k=2))\n",
    "print(len(base_folders))"
   ]
  },
  {
   "cell_type": "code",
   "execution_count": 4,
   "metadata": {},
   "outputs": [],
   "source": [
    "def calculate_displacement(coords1, coords2):\n",
    "    if len(coords1) != len(coords2):\n",
    "        return np.inf\n",
    "    \n",
    "    displacement = np.sqrt(np.sum((coords1 - coords2) ** 2, axis=1))\n",
    "    return displacement"
   ]
  },
  {
   "cell_type": "code",
   "execution_count": 5,
   "metadata": {},
   "outputs": [
    {
     "name": "stdout",
     "output_type": "stream",
     "text": [
      "315\n"
     ]
    },
    {
     "data": {
      "text/plain": [
       "0"
      ]
     },
     "execution_count": 5,
     "metadata": {},
     "output_type": "execute_result"
    }
   ],
   "source": [
    "abs_path = \"2/mask_coords.npy\"\n",
    "coords_file_paths = [os.path.join(directory, abs_path) for directory in base_folders]\n",
    "\n",
    "print(len(coords_file_paths))\n",
    "\n",
    "defaulters = [i for i in coords_file_paths if not(os.path.exists(i))]\n",
    "len(defaulters)"
   ]
  },
  {
   "cell_type": "markdown",
   "metadata": {},
   "source": [
    "##### Test Displacement"
   ]
  },
  {
   "cell_type": "code",
   "execution_count": 131,
   "metadata": {},
   "outputs": [
    {
     "name": "stdout",
     "output_type": "stream",
     "text": [
      "[]\n"
     ]
    }
   ],
   "source": [
    "abrupt_changes = []\n",
    "DISPLACEMENT_THRESHOLD = 10\n",
    "\n",
    "np_array = np.load(\"./Data/a14487e1-7656-4edb-ac6c-e457aea64b1b/I2V/harmonized_image_1/2/mask_coords.npy\")\n",
    "reference_coord = np_array[0]\n",
    "[[ref_x1, ref_y1], [ref_x2, ref_y2], [ref_x3, ref_y3], [ref_x4, ref_y4]] = reference_coord\n",
    "\n",
    "for idx, mask_coord in enumerate(np_array[1:]):\n",
    "    [[x1, y1], [x2, y2], [x3, y3], [x4, y4]] = mask_coord\n",
    "\n",
    "\n",
    "    \n",
    "    if reference_coord is not None:\n",
    "        displacement = calculate_displacement(reference_coord, mask_coord)\n",
    "        \n",
    "        if np.any(displacement > DISPLACEMENT_THRESHOLD):\n",
    "            abrupt_changes.append({idx+1 : list(displacement)})\n",
    "        \n",
    "        reference_coord = mask_coord.copy()\n",
    "\n",
    "\n",
    "print(abrupt_changes)\n",
    "    "
   ]
  },
  {
   "cell_type": "markdown",
   "metadata": {},
   "source": [
    "#### Displacement calculation router "
   ]
  },
  {
   "cell_type": "code",
   "execution_count": 43,
   "metadata": {},
   "outputs": [],
   "source": [
    "bbox_analysis_df = pd.DataFrame({})\n",
    "\n",
    "DISPLACEMENT_THRESHOLD = 10\n",
    "\n",
    "for numpy_file in coords_file_paths:\n",
    "\n",
    "    np_array = np.load(numpy_file)\n",
    "\n",
    "    abrupt_changes = []\n",
    "\n",
    "\n",
    "    reference_coord = np_array[0]\n",
    "    [[ref_x1, ref_y1], [ref_x2, ref_y2], [ref_x3, ref_y3], [ref_x4, ref_y4]] = reference_coord\n",
    "\n",
    "    for idx, mask_coord in enumerate(np_array[1:]):\n",
    "        [[x1, y1], [x2, y2], [x3, y3], [x4, y4]] = mask_coord\n",
    "        \n",
    "        if reference_coord is not None:\n",
    "            displacement = calculate_displacement(reference_coord, mask_coord)\n",
    "            \n",
    "            if np.any(displacement > DISPLACEMENT_THRESHOLD):\n",
    "                abrupt_changes.append({idx+1 : list(displacement)})\n",
    "            \n",
    "        reference_coord = mask_coord.copy()\n",
    "    \n",
    "    valid_animation = \"False\" if len(abrupt_changes)>1 else \"True\"\n",
    "\n",
    "\n",
    "    result_dict = {\n",
    "        \"numpy_file_path\": numpy_file,\n",
    "        \"valid_animation\": valid_animation,\n",
    "        \"pixel_displacements\" : str(list(abrupt_changes)),\n",
    "    }\n",
    "\n",
    "    row = pd.DataFrame(result_dict, index = [0])\n",
    "    bbox_analysis_df = pd.concat([bbox_analysis_df, row], ignore_index=True)\n",
    "\n"
   ]
  },
  {
   "cell_type": "code",
   "execution_count": 44,
   "metadata": {},
   "outputs": [
    {
     "name": "stdout",
     "output_type": "stream",
     "text": [
      "(315, 3)\n"
     ]
    }
   ],
   "source": [
    "print(bbox_analysis_df.shape)"
   ]
  },
  {
   "cell_type": "code",
   "execution_count": 45,
   "metadata": {},
   "outputs": [
    {
     "data": {
      "text/plain": [
       "valid_animation\n",
       "True     209\n",
       "False    106\n",
       "Name: count, dtype: int64"
      ]
     },
     "execution_count": 45,
     "metadata": {},
     "output_type": "execute_result"
    }
   ],
   "source": [
    "bbox_analysis_df[\"valid_animation\"].value_counts()\n"
   ]
  },
  {
   "cell_type": "markdown",
   "metadata": {},
   "source": [
    "#### 1.2.0 Move wrong Animations to a new folder for eyeballing"
   ]
  },
  {
   "cell_type": "code",
   "execution_count": 46,
   "metadata": {},
   "outputs": [
    {
     "data": {
      "text/html": [
       "<div>\n",
       "<style scoped>\n",
       "    .dataframe tbody tr th:only-of-type {\n",
       "        vertical-align: middle;\n",
       "    }\n",
       "\n",
       "    .dataframe tbody tr th {\n",
       "        vertical-align: top;\n",
       "    }\n",
       "\n",
       "    .dataframe thead th {\n",
       "        text-align: right;\n",
       "    }\n",
       "</style>\n",
       "<table border=\"1\" class=\"dataframe\">\n",
       "  <thead>\n",
       "    <tr style=\"text-align: right;\">\n",
       "      <th></th>\n",
       "      <th>numpy_file_path</th>\n",
       "      <th>valid_animation</th>\n",
       "      <th>pixel_displacements</th>\n",
       "    </tr>\n",
       "  </thead>\n",
       "  <tbody>\n",
       "    <tr>\n",
       "      <th>0</th>\n",
       "      <td>./Data/img_to_vid_samples/4/3f3eab9e-6e6d-4673...</td>\n",
       "      <td>False</td>\n",
       "      <td>[{74: [135.0, 135.0, 0.0, 0.0]}, {75: [135.0, ...</td>\n",
       "    </tr>\n",
       "    <tr>\n",
       "      <th>1</th>\n",
       "      <td>./Data/img_to_vid_samples/4/3f3eab9e-6e6d-4673...</td>\n",
       "      <td>False</td>\n",
       "      <td>[{72: [153.0, 153.0, 0.0, 0.0]}, {85: [154.0, ...</td>\n",
       "    </tr>\n",
       "    <tr>\n",
       "      <th>2</th>\n",
       "      <td>./Data/img_to_vid_samples/4/3f3eab9e-6e6d-4673...</td>\n",
       "      <td>False</td>\n",
       "      <td>[{181: [148.0, 148.0, 0.0, 0.0]}, {182: [39.0,...</td>\n",
       "    </tr>\n",
       "    <tr>\n",
       "      <th>3</th>\n",
       "      <td>./Data/img_to_vid_samples/4/3f3eab9e-6e6d-4673...</td>\n",
       "      <td>False</td>\n",
       "      <td>[{217: [192.0, 192.0, 0.0, 0.0]}, {221: [192.0...</td>\n",
       "    </tr>\n",
       "    <tr>\n",
       "      <th>4</th>\n",
       "      <td>./Data/img_to_vid_samples/4/1b67354c-b057-44e2...</td>\n",
       "      <td>False</td>\n",
       "      <td>[{41: [79.0, 79.0, 0.0, 0.0]}, {52: [24.0, 24....</td>\n",
       "    </tr>\n",
       "  </tbody>\n",
       "</table>\n",
       "</div>"
      ],
      "text/plain": [
       "                                     numpy_file_path valid_animation  \\\n",
       "0  ./Data/img_to_vid_samples/4/3f3eab9e-6e6d-4673...           False   \n",
       "1  ./Data/img_to_vid_samples/4/3f3eab9e-6e6d-4673...           False   \n",
       "2  ./Data/img_to_vid_samples/4/3f3eab9e-6e6d-4673...           False   \n",
       "3  ./Data/img_to_vid_samples/4/3f3eab9e-6e6d-4673...           False   \n",
       "4  ./Data/img_to_vid_samples/4/1b67354c-b057-44e2...           False   \n",
       "\n",
       "                                 pixel_displacements  \n",
       "0  [{74: [135.0, 135.0, 0.0, 0.0]}, {75: [135.0, ...  \n",
       "1  [{72: [153.0, 153.0, 0.0, 0.0]}, {85: [154.0, ...  \n",
       "2  [{181: [148.0, 148.0, 0.0, 0.0]}, {182: [39.0,...  \n",
       "3  [{217: [192.0, 192.0, 0.0, 0.0]}, {221: [192.0...  \n",
       "4  [{41: [79.0, 79.0, 0.0, 0.0]}, {52: [24.0, 24....  "
      ]
     },
     "execution_count": 46,
     "metadata": {},
     "output_type": "execute_result"
    }
   ],
   "source": [
    "false_rows = bbox_analysis_df[bbox_analysis_df[\"valid_animation\"] == \"False\"]\n",
    "false_rows.head()"
   ]
  },
  {
   "cell_type": "code",
   "execution_count": 47,
   "metadata": {},
   "outputs": [],
   "source": [
    "no_vid_files = []\n",
    "\n",
    "\n",
    "for index, row in false_rows.iterrows():\n",
    "    defaulter_numpy_file_path = dict(row)[\"numpy_file_path\"]\n",
    "    base_uuid = defaulter_numpy_file_path.split(\"/\")[-5]\n",
    "    sub_folder = \"_hi_\" + defaulter_numpy_file_path.split(\"/\")[-3][-1]\n",
    "    final_name = base_uuid + sub_folder\n",
    "    final_path = os.path.join(\"/home/pixis/Desktop/eyeballing_vid/\", final_name)\n",
    "    video_path = defaulter_numpy_file_path.replace(\"mask_coords.npy\", \"video_M_mat_butter_low_pass.mp4\")\n",
    "\n",
    "    if not os.path.exists(video_path):\n",
    "        no_vid_files.append(video_path)\n",
    "    \n",
    "    shutil.copy(video_path, final_path)"
   ]
  },
  {
   "cell_type": "code",
   "execution_count": 42,
   "metadata": {},
   "outputs": [
    {
     "data": {
      "text/plain": [
       "[]"
      ]
     },
     "execution_count": 42,
     "metadata": {},
     "output_type": "execute_result"
    }
   ],
   "source": [
    "no_vid_files"
   ]
  },
  {
   "cell_type": "code",
   "execution_count": null,
   "metadata": {},
   "outputs": [],
   "source": []
  },
  {
   "cell_type": "code",
   "execution_count": null,
   "metadata": {},
   "outputs": [],
   "source": []
  },
  {
   "cell_type": "markdown",
   "metadata": {},
   "source": [
    "#### 1.2.1 Testing another set"
   ]
  },
  {
   "cell_type": "code",
   "execution_count": 56,
   "metadata": {},
   "outputs": [],
   "source": [
    "#### 1.2.1 new generations with affine\n",
    "new_test_samples = \"./Data/img_to_vid_samples/affine_transformation\"\n",
    "\n",
    "def get_abs_file_paths(root_dir):\n",
    "    all_files = []\n",
    "    \n",
    "    for dirpath, dirnames, filenames in os.walk(root_dir):\n",
    "        for filename in filenames:\n",
    "            if filename.startswith(\"m\") and \"mask_coords.npy\" in filename:\n",
    "                all_files.append(os.path.join(dirpath, filename))\n",
    "    return all_files\n",
    "\n",
    "new_test_sample_paths = get_abs_file_paths(new_test_samples)\n",
    "\n",
    "\n",
    "\n",
    "new_bbox_test_df = pd.DataFrame({})\n",
    "\n",
    "DISPLACEMENT_THRESHOLD = 10\n",
    "\n",
    "for numpy_file in new_test_sample_paths:\n",
    "\n",
    "    np_array = np.load(numpy_file)\n",
    "\n",
    "    abrupt_changes = []\n",
    "\n",
    "\n",
    "    reference_coord = np_array[0]\n",
    "    [[ref_x1, ref_y1], [ref_x2, ref_y2], [ref_x3, ref_y3], [ref_x4, ref_y4]] = reference_coord\n",
    "\n",
    "    for idx, mask_coord in enumerate(np_array[1:]):\n",
    "        [[x1, y1], [x2, y2], [x3, y3], [x4, y4]] = mask_coord\n",
    "        \n",
    "        if reference_coord is not None:\n",
    "            displacement = calculate_displacement(reference_coord, mask_coord)\n",
    "            \n",
    "            if np.any(displacement > DISPLACEMENT_THRESHOLD):\n",
    "                abrupt_changes.append({idx+1 : list(displacement)})\n",
    "            \n",
    "        reference_coord = mask_coord.copy()\n",
    "    \n",
    "    valid_animation = \"False\" if len(abrupt_changes)>1 else \"True\"\n",
    "\n",
    "\n",
    "    result_dict = {\n",
    "        \"numpy_file_path\": numpy_file,\n",
    "        \"valid_animation\": valid_animation,\n",
    "        \"pixel_displacements\" : str(list(abrupt_changes)),\n",
    "    }\n",
    "\n",
    "    row = pd.DataFrame(result_dict, index = [0])\n",
    "    new_bbox_test_df = pd.concat([new_bbox_test_df, row], ignore_index=True)"
   ]
  },
  {
   "cell_type": "code",
   "execution_count": 58,
   "metadata": {},
   "outputs": [
    {
     "data": {
      "text/html": [
       "<div>\n",
       "<style scoped>\n",
       "    .dataframe tbody tr th:only-of-type {\n",
       "        vertical-align: middle;\n",
       "    }\n",
       "\n",
       "    .dataframe tbody tr th {\n",
       "        vertical-align: top;\n",
       "    }\n",
       "\n",
       "    .dataframe thead th {\n",
       "        text-align: right;\n",
       "    }\n",
       "</style>\n",
       "<table border=\"1\" class=\"dataframe\">\n",
       "  <thead>\n",
       "    <tr style=\"text-align: right;\">\n",
       "      <th></th>\n",
       "      <th>numpy_file_path</th>\n",
       "      <th>valid_animation</th>\n",
       "      <th>pixel_displacements</th>\n",
       "    </tr>\n",
       "  </thead>\n",
       "  <tbody>\n",
       "    <tr>\n",
       "      <th>0</th>\n",
       "      <td>./Data/img_to_vid_samples/affine_transformatio...</td>\n",
       "      <td>True</td>\n",
       "      <td>[]</td>\n",
       "    </tr>\n",
       "    <tr>\n",
       "      <th>1</th>\n",
       "      <td>./Data/img_to_vid_samples/affine_transformatio...</td>\n",
       "      <td>True</td>\n",
       "      <td>[]</td>\n",
       "    </tr>\n",
       "    <tr>\n",
       "      <th>2</th>\n",
       "      <td>./Data/img_to_vid_samples/affine_transformatio...</td>\n",
       "      <td>True</td>\n",
       "      <td>[]</td>\n",
       "    </tr>\n",
       "    <tr>\n",
       "      <th>3</th>\n",
       "      <td>./Data/img_to_vid_samples/affine_transformatio...</td>\n",
       "      <td>True</td>\n",
       "      <td>[]</td>\n",
       "    </tr>\n",
       "    <tr>\n",
       "      <th>4</th>\n",
       "      <td>./Data/img_to_vid_samples/affine_transformatio...</td>\n",
       "      <td>True</td>\n",
       "      <td>[]</td>\n",
       "    </tr>\n",
       "    <tr>\n",
       "      <th>5</th>\n",
       "      <td>./Data/img_to_vid_samples/affine_transformatio...</td>\n",
       "      <td>True</td>\n",
       "      <td>[]</td>\n",
       "    </tr>\n",
       "    <tr>\n",
       "      <th>6</th>\n",
       "      <td>./Data/img_to_vid_samples/affine_transformatio...</td>\n",
       "      <td>True</td>\n",
       "      <td>[]</td>\n",
       "    </tr>\n",
       "    <tr>\n",
       "      <th>7</th>\n",
       "      <td>./Data/img_to_vid_samples/affine_transformatio...</td>\n",
       "      <td>True</td>\n",
       "      <td>[]</td>\n",
       "    </tr>\n",
       "    <tr>\n",
       "      <th>8</th>\n",
       "      <td>./Data/img_to_vid_samples/affine_transformatio...</td>\n",
       "      <td>True</td>\n",
       "      <td>[]</td>\n",
       "    </tr>\n",
       "    <tr>\n",
       "      <th>9</th>\n",
       "      <td>./Data/img_to_vid_samples/affine_transformatio...</td>\n",
       "      <td>True</td>\n",
       "      <td>[]</td>\n",
       "    </tr>\n",
       "    <tr>\n",
       "      <th>10</th>\n",
       "      <td>./Data/img_to_vid_samples/affine_transformatio...</td>\n",
       "      <td>True</td>\n",
       "      <td>[]</td>\n",
       "    </tr>\n",
       "    <tr>\n",
       "      <th>11</th>\n",
       "      <td>./Data/img_to_vid_samples/affine_transformatio...</td>\n",
       "      <td>True</td>\n",
       "      <td>[]</td>\n",
       "    </tr>\n",
       "    <tr>\n",
       "      <th>12</th>\n",
       "      <td>./Data/img_to_vid_samples/affine_transformatio...</td>\n",
       "      <td>True</td>\n",
       "      <td>[]</td>\n",
       "    </tr>\n",
       "    <tr>\n",
       "      <th>13</th>\n",
       "      <td>./Data/img_to_vid_samples/affine_transformatio...</td>\n",
       "      <td>True</td>\n",
       "      <td>[]</td>\n",
       "    </tr>\n",
       "  </tbody>\n",
       "</table>\n",
       "</div>"
      ],
      "text/plain": [
       "                                      numpy_file_path valid_animation  \\\n",
       "0   ./Data/img_to_vid_samples/affine_transformatio...            True   \n",
       "1   ./Data/img_to_vid_samples/affine_transformatio...            True   \n",
       "2   ./Data/img_to_vid_samples/affine_transformatio...            True   \n",
       "3   ./Data/img_to_vid_samples/affine_transformatio...            True   \n",
       "4   ./Data/img_to_vid_samples/affine_transformatio...            True   \n",
       "5   ./Data/img_to_vid_samples/affine_transformatio...            True   \n",
       "6   ./Data/img_to_vid_samples/affine_transformatio...            True   \n",
       "7   ./Data/img_to_vid_samples/affine_transformatio...            True   \n",
       "8   ./Data/img_to_vid_samples/affine_transformatio...            True   \n",
       "9   ./Data/img_to_vid_samples/affine_transformatio...            True   \n",
       "10  ./Data/img_to_vid_samples/affine_transformatio...            True   \n",
       "11  ./Data/img_to_vid_samples/affine_transformatio...            True   \n",
       "12  ./Data/img_to_vid_samples/affine_transformatio...            True   \n",
       "13  ./Data/img_to_vid_samples/affine_transformatio...            True   \n",
       "\n",
       "   pixel_displacements  \n",
       "0                   []  \n",
       "1                   []  \n",
       "2                   []  \n",
       "3                   []  \n",
       "4                   []  \n",
       "5                   []  \n",
       "6                   []  \n",
       "7                   []  \n",
       "8                   []  \n",
       "9                   []  \n",
       "10                  []  \n",
       "11                  []  \n",
       "12                  []  \n",
       "13                  []  "
      ]
     },
     "execution_count": 58,
     "metadata": {},
     "output_type": "execute_result"
    }
   ],
   "source": [
    "new_bbox_test_df.tail(20)"
   ]
  },
  {
   "cell_type": "code",
   "execution_count": 62,
   "metadata": {},
   "outputs": [
    {
     "data": {
      "text/html": [
       "<div>\n",
       "<style scoped>\n",
       "    .dataframe tbody tr th:only-of-type {\n",
       "        vertical-align: middle;\n",
       "    }\n",
       "\n",
       "    .dataframe tbody tr th {\n",
       "        vertical-align: top;\n",
       "    }\n",
       "\n",
       "    .dataframe thead th {\n",
       "        text-align: right;\n",
       "    }\n",
       "</style>\n",
       "<table border=\"1\" class=\"dataframe\">\n",
       "  <thead>\n",
       "    <tr style=\"text-align: right;\">\n",
       "      <th></th>\n",
       "      <th>numpy_file_path</th>\n",
       "      <th>valid_animation</th>\n",
       "      <th>pixel_displacements</th>\n",
       "    </tr>\n",
       "  </thead>\n",
       "  <tbody>\n",
       "  </tbody>\n",
       "</table>\n",
       "</div>"
      ],
      "text/plain": [
       "Empty DataFrame\n",
       "Columns: [numpy_file_path, valid_animation, pixel_displacements]\n",
       "Index: []"
      ]
     },
     "execution_count": 62,
     "metadata": {},
     "output_type": "execute_result"
    }
   ],
   "source": [
    "false_rows = new_bbox_test_df[new_bbox_test_df[\"valid_animation\"] == \"False\"]\n",
    "false_rows.head()"
   ]
  },
  {
   "cell_type": "code",
   "execution_count": 63,
   "metadata": {},
   "outputs": [],
   "source": [
    "no_vid_files = []\n",
    "for index, row in false_rows.iterrows():\n",
    "    defaulter_numpy_file_path = dict(row)[\"numpy_file_path\"]\n",
    "    base_uuid = defaulter_numpy_file_path.split(\"/\")[-5]\n",
    "    sub_folder = \"_hi_\" + defaulter_numpy_file_path.split(\"/\")[-3][-1]\n",
    "    final_name = base_uuid + sub_folder\n",
    "    final_path = os.path.join(\"/home/pixis/Desktop/eyeballing_vid/new_test/\", final_name)\n",
    "    video_path = defaulter_numpy_file_path.replace(\"mask_coords.npy\", \"video_butter_low_pass.mp4\")\n",
    "\n",
    "    if not os.path.exists(video_path):\n",
    "        no_vid_files.append(video_path)\n",
    "    \n",
    "    shutil.copy(video_path, final_path)\n"
   ]
  },
  {
   "cell_type": "code",
   "execution_count": null,
   "metadata": {},
   "outputs": [],
   "source": []
  },
  {
   "cell_type": "markdown",
   "metadata": {},
   "source": [
    "# Miscellaneous snippets below"
   ]
  },
  {
   "cell_type": "markdown",
   "metadata": {},
   "source": [
    "### Solving for irregular masks incase of part of elements are left while masking it."
   ]
  },
  {
   "cell_type": "code",
   "execution_count": null,
   "metadata": {},
   "outputs": [],
   "source": [
    "def get_white_pixel_coords_and_bounds(mask_path):\n",
    "\n",
    "    mask = cv2.imread(mask_path, cv2.IMREAD_GRAYSCALE)\n",
    "    \n",
    "    white_pixel_coords = np.column_stack(np.where(mask == 255))\n",
    "    \n",
    "    min_x, min_y = np.min(white_pixel_coords, axis=0)\n",
    "    max_x, max_y = np.max(white_pixel_coords, axis=0)\n",
    "    \n",
    "    return white_pixel_coords, (min_x, min_y), (max_x, max_y)"
   ]
  },
  {
   "cell_type": "code",
   "execution_count": null,
   "metadata": {},
   "outputs": [],
   "source": []
  },
  {
   "cell_type": "markdown",
   "metadata": {},
   "source": [
    "## Clean the unwanted folders."
   ]
  },
  {
   "cell_type": "code",
   "execution_count": 155,
   "metadata": {},
   "outputs": [],
   "source": [
    "# for i in defaulters:\n",
    "#     del_folder = i.replace(\"/2/mask_coords.npy\", \"\")\n",
    "#     shutil.rmtree(del_folder)"
   ]
  }
 ],
 "metadata": {
  "kernelspec": {
   "display_name": "any",
   "language": "python",
   "name": "python3"
  },
  "language_info": {
   "codemirror_mode": {
    "name": "ipython",
    "version": 3
   },
   "file_extension": ".py",
   "mimetype": "text/x-python",
   "name": "python",
   "nbconvert_exporter": "python",
   "pygments_lexer": "ipython3",
   "version": "3.10.14"
  }
 },
 "nbformat": 4,
 "nbformat_minor": 2
}
