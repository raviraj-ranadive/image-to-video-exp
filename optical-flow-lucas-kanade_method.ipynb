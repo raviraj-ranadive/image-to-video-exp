{
 "cells": [
  {
   "cell_type": "markdown",
   "id": "5bd5af47-56ba-4043-ae53-97aaad368ff0",
   "metadata": {},
   "source": [
    "#### imports"
   ]
  },
  {
   "cell_type": "code",
   "execution_count": 1,
   "id": "07b24138-3663-48dc-8947-5e4b430010d7",
   "metadata": {},
   "outputs": [],
   "source": [
    "import os\n",
    "import cv2\n",
    "import numpy as np\n",
    "from PIL import Image\n",
    "import matplotlib.pyplot as plt\n",
    "from concurrent.futures import ThreadPoolExecutor, as_completed\n",
    "import pandas as pd"
   ]
  },
  {
   "cell_type": "code",
   "execution_count": 2,
   "id": "8b1a295b",
   "metadata": {},
   "outputs": [
    {
     "name": "stderr",
     "output_type": "stream",
     "text": [
      "/media/pixis/pixis/tausif_workspace/miniconda3/envs/any/lib/python3.10/site-packages/tqdm/auto.py:21: TqdmWarning: IProgress not found. Please update jupyter and ipywidgets. See https://ipywidgets.readthedocs.io/en/stable/user_install.html\n",
      "  from .autonotebook import tqdm as notebook_tqdm\n"
     ]
    }
   ],
   "source": [
    "##### Segmentation model\n",
    "from transformers import pipeline\n",
    "pipe = pipeline(\"image-segmentation\", model=\"briaai/RMBG-1.4\", trust_remote_code=True)"
   ]
  },
  {
   "cell_type": "code",
   "execution_count": 3,
   "id": "04b92fe6",
   "metadata": {},
   "outputs": [],
   "source": [
    "feature_params = dict(maxCorners=100, qualityLevel=0.3, minDistance=7, blockSize=7)\n",
    "\n",
    "# Utility functions\n",
    "\n",
    "def initialize_video_capture(video_file_path):\n",
    "    vc = cv2.VideoCapture(video_file_path)\n",
    "    ret, first_frame = vc.read()\n",
    "    if not ret:\n",
    "        raise ValueError(\"Error: Could not read the first frame.\")\n",
    "    return vc, first_frame\n",
    "\n",
    "def initialize_video_writer(vc, final_path, frame_size):\n",
    "    fourcc = cv2.VideoWriter_fourcc(*'mp4v')\n",
    "    fps = vc.get(cv2.CAP_PROP_FPS)\n",
    "    out = cv2.VideoWriter(final_path, fourcc, fps, frame_size)\n",
    "    if not out.isOpened():\n",
    "        raise ValueError(\"Error: VideoWriter did not open.\")\n",
    "    return out\n",
    "\n",
    "def get_segmented_gray_frame(frame, resize_dim):\n",
    "    image_pil = cv2.cvtColor(frame, cv2.COLOR_BGR2RGB)\n",
    "    image_pil = Image.fromarray(image_pil)\n",
    "    pillow_image = pipe(image_pil)  # applies mask on input and returns a pillow image\n",
    "    image_np = np.array(pillow_image)\n",
    "    frame_cv2 = image_np[:, :, ::-1]\n",
    "    seg_gray = cv2.cvtColor(frame_cv2, cv2.COLOR_BGR2GRAY)\n",
    "    seg_gray = cv2.resize(seg_gray, (resize_dim[0], resize_dim[1]))\n",
    "    return seg_gray\n",
    "\n",
    "def initialize_display(resize_dim):\n",
    "    plt.ion()\n",
    "    fig, ax = plt.subplots()\n",
    "    img_display = ax.imshow(np.zeros((resize_dim[0], resize_dim[1], 3), dtype=np.uint8))\n",
    "    plt.title(\"Dense Optical Flow\")\n",
    "    return fig, ax, img_display\n",
    "\n",
    "def calculate_optical_flow_magnitude(prev_gray, seg_gray):\n",
    "    # Lucas-Kanade parameters\n",
    "    lk_params = dict(winSize=(15, 15), maxLevel=2, criteria=(cv2.TERM_CRITERIA_EPS | cv2.TERM_CRITERIA_COUNT, 10, 0.03))\n",
    "    # Find the initial points\n",
    "    p0 = cv2.goodFeaturesToTrack(prev_gray, mask=None, **feature_params)\n",
    "    # Calculate optical flow\n",
    "    p1, st, err = cv2.calcOpticalFlowPyrLK(prev_gray, seg_gray, p0, None, **lk_params)\n",
    "    # Select good points\n",
    "    good_new = p1[st == 1]\n",
    "    good_old = p0[st == 1]\n",
    "\n",
    "    # Initialize flow with zeros\n",
    "    flow = np.zeros((prev_gray.shape[0], prev_gray.shape[1], 2), dtype=np.float32)\n",
    "    for (new, old) in zip(good_new, good_old):\n",
    "        a, b = new.ravel()\n",
    "        c, d = old.ravel()\n",
    "        if 0 <= int(b) < flow.shape[0] and 0 <= int(a) < flow.shape[1]:\n",
    "            flow[int(b), int(a), 0] = a - c\n",
    "            flow[int(b), int(a), 1] = b - d\n",
    "    \n",
    "    magnitude, angle = cv2.cartToPolar(flow[..., 0], flow[..., 1])\n",
    "    return magnitude, angle\n",
    "\n",
    "\n",
    "\n",
    "def create_dense_flow_visual(frame, magnitude, angle, mask):\n",
    "    mask[..., 0] = angle * 180 / np.pi / 2\n",
    "    mask[..., 2] = cv2.normalize(magnitude, None, 0, 255, cv2.NORM_MINMAX)\n",
    "    rgb = cv2.cvtColor(mask, cv2.COLOR_HSV2BGR)\n",
    "    dense_flow = cv2.addWeighted(frame, 1, rgb, 2, 0)\n",
    "    return dense_flow\n",
    "\n",
    "def update_display(img_display, dense_flow):\n",
    "    img_display.set_data(cv2.cvtColor(dense_flow, cv2.COLOR_BGR2RGB))\n",
    "    plt.pause(0.001)\n",
    "\n",
    "def save_frame(out, dense_flow):\n",
    "    out.write(dense_flow)\n",
    "\n",
    "def release_resources(vc, out, fig):\n",
    "    vc.release()\n",
    "    out.release()\n",
    "    plt.ioff()\n",
    "    plt.close(fig)\n"
   ]
  },
  {
   "cell_type": "code",
   "execution_count": 4,
   "id": "76d058b8",
   "metadata": {},
   "outputs": [],
   "source": [
    "DEBUGER = False\n",
    "resize_dim = 600\n",
    "THRESH_MAGN = 100\n",
    "# Global variables\n",
    "vid_save_path = \"./butterworth-filtered-videos/optical-flow-vids_lk\"\n",
    "\n",
    "def ensure_directory_exists(path):\n",
    "    if not os.path.exists(path):\n",
    "        os.makedirs(path)\n",
    "\n",
    "ensure_directory_exists(vid_save_path)"
   ]
  },
  {
   "cell_type": "code",
   "execution_count": 7,
   "id": "babc1c9c",
   "metadata": {},
   "outputs": [],
   "source": [
    "\n",
    "def process_video(video_file_path):\n",
    "    valid_movement = True\n",
    "    max_magnitude = 0\n",
    "    frame_counter = 0\n",
    "    fname = video_file_path.split(\"/\")[-1]\n",
    "\n",
    "    avg_magnitudes = []\n",
    "    avg_angles = []\n",
    "    max_magnitudes = []\n",
    "\n",
    "    final_path = os.path.join(vid_save_path, fname)\n",
    "\n",
    "    vc, first_frame = initialize_video_capture(video_file_path)\n",
    "    H, W, c = first_frame.shape\n",
    "    width, height = W // 3, H // 3\n",
    "\n",
    "    first_frame_resized = cv2.resize(first_frame, (width, height))\n",
    "    prev_gray = get_segmented_gray_frame(first_frame_resized, (width, height))\n",
    "\n",
    "    mask = np.zeros_like(first_frame_resized)\n",
    "    mask[..., 1] = 255\n",
    "\n",
    "    '''Debugging purposes'''\n",
    "    if DEBUGER:\n",
    "        out = initialize_video_writer(vc, final_path, (width, height))\n",
    "        fig, ax, img_display = initialize_display((width, height))\n",
    "\n",
    "    while vc.isOpened():\n",
    "        frame_counter += 1\n",
    "        ret, frame = vc.read()\n",
    "        \n",
    "        if not ret:\n",
    "            break\n",
    "        \n",
    "        frame_resized = cv2.resize(frame, (width, height))\n",
    "        seg_gray = get_segmented_gray_frame(frame_resized, (width, height))\n",
    "\n",
    "        magnitude, angle = calculate_optical_flow_magnitude(prev_gray, seg_gray)\n",
    "\n",
    "        if np.any(np.isinf(magnitude)) or np.any(np.isnan(magnitude)):\n",
    "            valid_movement = False\n",
    "        \n",
    "        if DEBUGER:\n",
    "            dense_flow = create_dense_flow_visual(frame_resized, magnitude, angle, mask)\n",
    "            update_display(img_display, dense_flow)\n",
    "            save_frame(out, dense_flow)\n",
    "\n",
    "        max_magnitude_temp = np.max(magnitude)\n",
    "        if max_magnitude_temp > THRESH_MAGN:\n",
    "            valid_movement = False\n",
    "            max_magnitude = max_magnitude_temp\n",
    "        else:\n",
    "            max_magnitude = max(max_magnitude, max_magnitude_temp)\n",
    "\n",
    "        avg_magnitude = np.mean(magnitude)\n",
    "        avg_angle = np.mean(angle)\n",
    "\n",
    "        avg_magnitudes.append(avg_magnitude)\n",
    "        avg_angles.append(avg_angle)\n",
    "        max_magnitudes.append(max_magnitude_temp)\n",
    "\n",
    "        prev_gray = seg_gray.copy()\n",
    "\n",
    "    if DEBUGER:    \n",
    "        release_resources(vc, out, fig)\n",
    "\n",
    "    avg_magnitudes = np.array(avg_magnitudes)\n",
    "    avg_angles = np.array(avg_angles)\n",
    "    max_magnitudes = np.array(max_magnitudes)\n",
    "\n",
    "    return max_magnitude, valid_movement, max_magnitudes, avg_angles, avg_magnitudes\n",
    "\n"
   ]
  },
  {
   "cell_type": "code",
   "execution_count": 9,
   "id": "0432b6d0",
   "metadata": {},
   "outputs": [
    {
     "name": "stdout",
     "output_type": "stream",
     "text": [
      "Max magnitude: 2.5091516971588135, Valid movement: True\n"
     ]
    }
   ],
   "source": [
    "\n",
    "max_magnitude, valid_movement, max_magnitudes, avg_angles, avg_magnitudes  = process_video('./butterworth-filtered-videos/all_dataset/85f4265d-855_video_M_mat_butter_low_pass.mp4')\n",
    "print(f\"Max magnitude: {max_magnitude}, Valid movement: {valid_movement}\")\n"
   ]
  },
  {
   "cell_type": "code",
   "execution_count": 10,
   "id": "6240dce9",
   "metadata": {},
   "outputs": [],
   "source": [
    "video_analysis_df = pd.DataFrame({})\n",
    "\n",
    "def get_abs_vid_file_paths(root_dir):\n",
    "    all_files = []\n",
    "    \n",
    "    for dirpath, dirnames, filenames in os.walk(root_dir):\n",
    "        for filename in filenames:\n",
    "            if \"video_M_mat_butter_low_pass.mp4\" in filename:\n",
    "                all_files.append(os.path.join(dirpath, filename))\n",
    "    return all_files\n",
    "\n",
    "vid_file_list = get_abs_vid_file_paths(\"./butterworth-filtered-videos/all_dataset\")\n",
    "\n",
    "\n",
    "##### Single Thread\n",
    "# for video_file_path in vid_file_list:\n",
    "#         max_magnitude, valid_movement = process_video(video_file_path)\n",
    "#         result_dict = {\n",
    "#                 \"video_file_path\" : video_file_path,\n",
    "#                 \"valid_movement\" : valid_movement,\n",
    "#                 \"max_magnitude\" : max_magnitude\n",
    "#                 }\n",
    "#         row = pd.DataFrame(result_dict, index = [0])\n",
    "#         video_analysis_df = pd.concat([video_analysis_df, row])"
   ]
  },
  {
   "cell_type": "code",
   "execution_count": 11,
   "id": "0f0f8838",
   "metadata": {},
   "outputs": [
    {
     "name": "stderr",
     "output_type": "stream",
     "text": [
      "100%|██████████| 315/315 [1:48:13<00:00, 20.61s/it]  \n"
     ]
    }
   ],
   "source": [
    "from tqdm import tqdm\n",
    "\n",
    "\n",
    "def analyze_video(video_file_path):\n",
    "    max_magnitude, valid_movement, max_magnitudes, avg_angles, avg_magnitudes = process_video(video_file_path)\n",
    "    return {\n",
    "        \"video_file_path\": video_file_path,\n",
    "        \"valid_movement\": valid_movement,\n",
    "        \"max_magnitude\": max_magnitude,\n",
    "        \"max_magnitudes_per_frame\": max_magnitudes, \n",
    "        \"avg_angle_per_frame\" : avg_angles, \n",
    "        \"avg_magnitude_per_frame\" : avg_magnitudes\n",
    "    }\n",
    "\n",
    "##### Single Thread\n",
    "# for video_file_path in tqdm(vid_file_list):\n",
    "#     result_dict = analyze_video(video_file_path)\n",
    "#     row = pd.DataFrame(result_dict, index=[0])\n",
    "#     video_analysis_df = pd.concat([video_analysis_df, row], ignore_index=True)\n",
    "\n",
    "\n",
    "#### ThreadPools\n",
    "with ThreadPoolExecutor(max_workers=3) as executor:\n",
    "    futures = {executor.submit(analyze_video, video_file_path): video_file_path for video_file_path in vid_file_list}\n",
    "    for future in tqdm(as_completed(futures), total=len(futures)):\n",
    "        result_dict = future.result()\n",
    "        row = pd.DataFrame(result_dict)\n",
    "        video_analysis_df = pd.concat([video_analysis_df, row], ignore_index=True)\n",
    "# \n",
    "# Now video_analysis_df contains the results of all processed videos\n"
   ]
  },
  {
   "cell_type": "code",
   "execution_count": 12,
   "id": "2eefa1f7",
   "metadata": {},
   "outputs": [],
   "source": [
    "video_analysis_df.to_csv(\"./saved-dfs/lucas-kanade-method.csv\")"
   ]
  },
  {
   "cell_type": "code",
   "execution_count": 13,
   "id": "fe988b2a",
   "metadata": {},
   "outputs": [
    {
     "data": {
      "text/plain": [
       "dtype('float32')"
      ]
     },
     "execution_count": 13,
     "metadata": {},
     "output_type": "execute_result"
    }
   ],
   "source": [
    "video_analysis_df.dtypes['max_magnitude'] "
   ]
  },
  {
   "cell_type": "code",
   "execution_count": 15,
   "id": "c53babc6",
   "metadata": {},
   "outputs": [
    {
     "data": {
      "image/png": "[encoded data removed]",
      "text/plain": [
       "<Figure size 1000x600 with 1 Axes>"
      ]
     },
     "metadata": {},
     "output_type": "display_data"
    }
   ],
   "source": [
    "import matplotlib.pyplot as plt\n",
    "\n",
    "# Get the distribution of max magnitude of movement.\n",
    "# Extract max_magnitude values\n",
    "max_magnitude_values = video_analysis_df[\"max_magnitude\"].values\n",
    "\n",
    "# Plot the histogram\n",
    "plt.figure(figsize=(10, 6))\n",
    "n, bins, patches = plt.hist(max_magnitude_values, bins=30, edgecolor='black')\n",
    "plt.title(\"Distribution of Max Magnitude Values\")\n",
    "plt.xlabel(\"Max Magnitude\")\n",
    "plt.ylabel(\"Frequency\")\n",
    "plt.grid(True)\n",
    "\n",
    "# # Add counts on top of the bars\n",
    "# for i in range(len(patches)):\n",
    "#     plt.text(patches[i].get_x() + patches[i].get_width() / 2, patches[i].get_height(), \n",
    "#              str(int(n[i])), ha='center', va='bottom')\n",
    "\n",
    "plt.show()"
   ]
  },
  {
   "cell_type": "code",
   "execution_count": 29,
   "id": "53734714",
   "metadata": {},
   "outputs": [
    {
     "data": {
      "text/plain": [
       "(41, 3)"
      ]
     },
     "execution_count": 29,
     "metadata": {},
     "output_type": "execute_result"
    }
   ],
   "source": [
    "THRESH_MAGN = 60\n",
    "filtered_df = video_analysis_df[video_analysis_df[\"max_magnitude\"] > float(THRESH_MAGN)]\n",
    "filtered_df.shape"
   ]
  },
  {
   "cell_type": "code",
   "execution_count": 30,
   "id": "267ec8ee",
   "metadata": {},
   "outputs": [],
   "source": [
    "import shutil\n",
    "no_vid_files = []\n",
    "\n",
    "\n",
    "for index, row in filtered_df.iterrows():\n",
    "    vid_path = dict(row)[\"video_file_path\"]\n",
    "    fname = vid_path.split(\"/\")[-1]\n",
    "    sub_folder = \"./butterworth-filtered-videos/exceeds_thresholds\"\n",
    "    final_path = os.path.join(sub_folder, fname)\n",
    "\n",
    "    if not os.path.exists(vid_path):\n",
    "        no_vid_files.append(vid_path)\n",
    "    \n",
    "    shutil.copy(vid_path, final_path)"
   ]
  },
  {
   "cell_type": "markdown",
   "id": "09f39368",
   "metadata": {},
   "source": [
    "### misce : Copy required dataset "
   ]
  },
  {
   "cell_type": "code",
   "execution_count": 5,
   "id": "d94840fa",
   "metadata": {},
   "outputs": [],
   "source": [
    "import uuid\n",
    "import shutil"
   ]
  },
  {
   "cell_type": "code",
   "execution_count": 6,
   "id": "9059b970",
   "metadata": {},
   "outputs": [],
   "source": [
    "def get_abs_file_paths(root_dir):\n",
    "    all_files = []\n",
    "    \n",
    "    for dirpath, dirnames, filenames in os.walk(root_dir):\n",
    "        for filename in filenames:\n",
    "            if filename.endswith(\".jpg\") and \"frame_\" in filename:\n",
    "                all_files.append(os.path.join(dirpath, filename))\n",
    "    return all_files\n",
    "\n",
    "def copy_to_dest(src_path, dest):\n",
    "    idx = str(uuid.uuid4())\n",
    "    file_name = src_path.split(\"/\")[-1]\n",
    "    destination_path = os.path.join(dest, idx[:12] + \"_\" + file_name)\n",
    "    shutil.copy(src_path, destination_path)\n"
   ]
  },
  {
   "cell_type": "code",
   "execution_count": 7,
   "id": "27c95fbc",
   "metadata": {},
   "outputs": [],
   "source": [
    "root_dir = \"../Data/\"\n",
    "test_sample_paths = get_abs_file_paths(root_dir)"
   ]
  },
  {
   "cell_type": "code",
   "execution_count": 17,
   "id": "8f1537e9",
   "metadata": {},
   "outputs": [],
   "source": [
    "# dest = \"./org_frames_dataset/\"\n",
    "# for src in test_sample_paths:\n",
    "#     copy_to_dest(src, dest)\n"
   ]
  },
  {
   "cell_type": "markdown",
   "id": "810c5e8d",
   "metadata": {},
   "source": [
    "### Copy all the video files to "
   ]
  },
  {
   "cell_type": "code",
   "execution_count": 10,
   "id": "9014a210",
   "metadata": {},
   "outputs": [],
   "source": [
    "def get_abs_vid_file_paths(root_dir):\n",
    "    all_files = []\n",
    "    \n",
    "    for dirpath, dirnames, filenames in os.walk(root_dir):\n",
    "        for filename in filenames:\n",
    "            if \"video_M_mat_butter_low_pass.mp4\" in filename:\n",
    "                all_files.append(os.path.join(dirpath, filename))\n",
    "    return all_files\n",
    "\n",
    "video_files = get_abs_vid_file_paths(root_dir)\n",
    "\n",
    "# vid_dest = \"./butterworth-filtered-videos/all_dataset\"\n",
    "# for files in video_files:\n",
    "#     copy_to_dest(files, vid_dest)"
   ]
  },
  {
   "cell_type": "code",
   "execution_count": null,
   "id": "1a9bcadf",
   "metadata": {},
   "outputs": [],
   "source": []
  }
 ],
 "metadata": {
  "kernelspec": {
   "display_name": "Python 3 (ipykernel)",
   "language": "python",
   "name": "python3"
  },
  "language_info": {
   "codemirror_mode": {
    "name": "ipython",
    "version": 3
   },
   "file_extension": ".py",
   "mimetype": "text/x-python",
   "name": "python",
   "nbconvert_exporter": "python",
   "pygments_lexer": "ipython3",
   "version": "3.10.14"
  }
 },
 "nbformat": 4,
 "nbformat_minor": 5
}
